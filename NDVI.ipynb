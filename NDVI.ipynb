{
  "nbformat": 4,
  "nbformat_minor": 0,
  "metadata": {
    "colab": {
      "provenance": [],
      "authorship_tag": "ABX9TyOLtAZoQa0oVIlvE6eJb8+n",
      "include_colab_link": true
    },
    "kernelspec": {
      "name": "python3",
      "display_name": "Python 3"
    },
    "language_info": {
      "name": "python"
    }
  },
  "cells": [
    {
      "cell_type": "markdown",
      "metadata": {
        "id": "view-in-github",
        "colab_type": "text"
      },
      "source": [
        "<a href=\"https://colab.research.google.com/github/nicolefrale/ProyectoSIG/blob/main/NDVI.ipynb\" target=\"_parent\"><img src=\"https://colab.research.google.com/assets/colab-badge.svg\" alt=\"Open In Colab\"/></a>"
      ]
    },
    {
      "cell_type": "markdown",
      "source": [
        "**Parcial 2**\n",
        "\n",
        "Leydi Catherine Corredor,\n",
        "Laura Clavijo,\n",
        "Nicole Franco"
      ],
      "metadata": {
        "id": "O21RJHtUB1K0"
      }
    },
    {
      "cell_type": "markdown",
      "source": [
        "##Crear un función y reutilizarla en otro Notebook\n",
        "\n",
        "**En este Notebook se definira la funcion NDVI para reutilizar en otro Notebook**\n",
        "\n",
        "Se definirá una función que permita calcular El Índice de Vegetación de Diferencia Normalizada es un indicador simple de biomasa fotosintéticamente activa. Las bandas que se utilizara en calculo son obtenidas de imágenes multiespectrales del proyecto Landsat 9 recortadas para área de estudio que comprende cinco subcuencas aledañas y de influencia al PNN Chingaza para febrero de 2025.\n",
        "\n",
        "Luego esta función se reutilizara en otro Nootebook\n"
      ],
      "metadata": {
        "id": "QfitLoUU9R7k"
      }
    },
    {
      "cell_type": "markdown",
      "source": [
        "El Índice de Vegetación de Diferencia Normalizada (NDVI) se calcula con la siguiente fórmula:\n",
        "\n",
        "$$\n",
        "NDVI = \\frac{(NIR - RED)}{(NIR + RED)}\n",
        "$$\n",
        "\n",
        "Donde:\n",
        "\n",
        "NIR = Banda del infrarrojo cercano\n",
        "\n",
        "RED = Banda del rojo.\n"
      ],
      "metadata": {
        "id": "ZyK5Oc279YhH"
      }
    },
    {
      "cell_type": "code",
      "source": [
        "# Importamos la Liberia que los vinculara la ruta\n",
        "import sys\n",
        "print(sys.path)"
      ],
      "metadata": {
        "colab": {
          "base_uri": "https://localhost:8080/"
        },
        "id": "wsqf4_l8ryeS",
        "outputId": "ce9f2ce6-9acd-495d-c568-3ef6872ac59a"
      },
      "execution_count": 2,
      "outputs": [
        {
          "output_type": "stream",
          "name": "stdout",
          "text": [
            "['/content', '/env/python', '/usr/lib/python311.zip', '/usr/lib/python3.11', '/usr/lib/python3.11/lib-dynload', '', '/usr/local/lib/python3.11/dist-packages', '/usr/lib/python3/dist-packages', '/usr/local/lib/python3.11/dist-packages/IPython/extensions', '/root/.ipython']\n"
          ]
        }
      ]
    },
    {
      "cell_type": "code",
      "source": [
        "!pip install ipynb"
      ],
      "metadata": {
        "colab": {
          "base_uri": "https://localhost:8080/"
        },
        "id": "IX9mTM9Nsi37",
        "outputId": "a5e58fa6-e930-437d-ec3f-b899d055fe4e"
      },
      "execution_count": 3,
      "outputs": [
        {
          "output_type": "stream",
          "name": "stdout",
          "text": [
            "Collecting ipynb\n",
            "  Downloading ipynb-0.5.1-py3-none-any.whl.metadata (303 bytes)\n",
            "Downloading ipynb-0.5.1-py3-none-any.whl (6.9 kB)\n",
            "Installing collected packages: ipynb\n",
            "Successfully installed ipynb-0.5.1\n"
          ]
        }
      ]
    },
    {
      "cell_type": "code",
      "source": [
        "import ipynb\n",
        "print(\"El módulo ipynb está instalado correctamente.\")"
      ],
      "metadata": {
        "colab": {
          "base_uri": "https://localhost:8080/"
        },
        "id": "mQg2Og9ortHz",
        "outputId": "2fcd867c-fa63-4976-a6fa-f10240c2cf5e"
      },
      "execution_count": 4,
      "outputs": [
        {
          "output_type": "stream",
          "name": "stdout",
          "text": [
            "El módulo ipynb está instalado correctamente.\n"
          ]
        }
      ]
    },
    {
      "cell_type": "code",
      "source": [
        "# Definomos la funcion para calcular el NDVI\n",
        "%%writefile NDVI.py\n",
        "def calcular_ndvi(banda_4, banda_5):\n",
        "    return (banda_4 - banda_5) / (banda_4 + banda_5)"
      ],
      "metadata": {
        "id": "jGtJU99joiGj",
        "colab": {
          "base_uri": "https://localhost:8080/"
        },
        "outputId": "355bc8b8-cb54-414b-82d9-475ff2d36454"
      },
      "execution_count": 5,
      "outputs": [
        {
          "output_type": "stream",
          "name": "stdout",
          "text": [
            "Writing NDVI.py\n"
          ]
        }
      ]
    }
  ]
}